{
 "cells": [
  {
   "cell_type": "code",
   "execution_count": 1,
   "metadata": {},
   "outputs": [],
   "source": [
    "import numpy as np"
   ]
  },
  {
   "cell_type": "code",
   "execution_count": 2,
   "metadata": {},
   "outputs": [
    {
     "name": "stdout",
     "output_type": "stream",
     "text": [
      "numpy version: 1.19.1\n"
     ]
    }
   ],
   "source": [
    "print(\"numpy version:\", np.__version__)"
   ]
  },
  {
   "cell_type": "code",
   "execution_count": 3,
   "metadata": {},
   "outputs": [],
   "source": [
    "array1 = np.array([[1, 2, 3, 4], [5, 6, 7, 8], [9, 10, 11, 12]])"
   ]
  },
  {
   "cell_type": "code",
   "execution_count": 4,
   "metadata": {},
   "outputs": [
    {
     "name": "stdout",
     "output_type": "stream",
     "text": [
      "[[ 1  2  3  4]\n",
      " [ 5  6  7  8]\n",
      " [ 9 10 11 12]]\n",
      "<class 'numpy.ndarray'>\n",
      "[1 2 3 4]\n",
      "<class 'numpy.ndarray'>\n"
     ]
    }
   ],
   "source": [
    "print(array1)\n",
    "print(type(array1))\n",
    "print(array1[0])\n",
    "print(type(array1[0]))"
   ]
  },
  {
   "cell_type": "code",
   "execution_count": 5,
   "metadata": {},
   "outputs": [
    {
     "name": "stdout",
     "output_type": "stream",
     "text": [
      "(3, 4)\n",
      "<class 'tuple'>\n",
      "num of row: 3\n",
      "num of col: 4\n",
      "(4,)\n",
      "<class 'tuple'>\n",
      "num of item: 4\n"
     ]
    }
   ],
   "source": [
    "print(array1.shape)\n",
    "print(type(array1.shape))\n",
    "\n",
    "row, col = array1.shape\n",
    "print(\"num of row:\", row)\n",
    "print(\"num of col:\", col)\n",
    "\n",
    "print(array1[0].shape)\n",
    "print(type(array1[0].shape))\n",
    "n_item = array1[0].shape[0]\n",
    "print(\"num of item:\", n_item)"
   ]
  },
  {
   "cell_type": "code",
   "execution_count": 6,
   "metadata": {},
   "outputs": [
    {
     "name": "stdout",
     "output_type": "stream",
     "text": [
      "[[0. 0. 0. 0. 0.]\n",
      " [0. 0. 0. 0. 0.]\n",
      " [0. 0. 0. 0. 0.]\n",
      " [0. 0. 0. 0. 0.]] (4, 5)\n",
      "[0. 0. 0. 0. 0.]\n"
     ]
    }
   ],
   "source": [
    "arr_zeros = np.zeros((4, 5))\n",
    "print(arr_zeros, arr_zeros.shape)\n",
    "\n",
    "print(np.zeros(5))"
   ]
  },
  {
   "cell_type": "code",
   "execution_count": 7,
   "metadata": {},
   "outputs": [
    {
     "name": "stdout",
     "output_type": "stream",
     "text": [
      "[[1. 1. 1. 1. 1.]\n",
      " [1. 1. 1. 1. 1.]\n",
      " [1. 1. 1. 1. 1.]\n",
      " [1. 1. 1. 1. 1.]] (4, 5) float64\n",
      "[[[1 1 1]\n",
      "  [1 1 1]]\n",
      "\n",
      " [[1 1 1]\n",
      "  [1 1 1]]] (2, 2, 3) int64\n"
     ]
    }
   ],
   "source": [
    "arr_ones_2d = np.ones((4, 5))\n",
    "print(arr_ones_2d, arr_ones_2d.shape, arr_ones_2d.dtype)\n",
    "arr_ones_3d = np.ones((2, 2, 3), dtype=int)\n",
    "print(arr_ones_3d, arr_ones_3d.shape, arr_ones_3d.dtype)"
   ]
  },
  {
   "cell_type": "code",
   "execution_count": 8,
   "metadata": {},
   "outputs": [
    {
     "name": "stdout",
     "output_type": "stream",
     "text": [
      "[[-2.00000000e+000  2.00390263e+000  1.97626258e-323  0.00000000e+000]\n",
      " [ 0.00000000e+000  0.00000000e+000 -2.00000000e+000  5.60610283e-309]] (2, 4)\n",
      "[[0. 0. 0. ... 0. 0. 0.]\n",
      " [0. 0. 0. ... 0. 0. 0.]\n",
      " [0. 0. 0. ... 0. 0. 0.]\n",
      " ...\n",
      " [0. 0. 0. ... 0. 0. 0.]\n",
      " [0. 0. 0. ... 0. 0. 0.]\n",
      " [0. 0. 0. ... 0. 0. 0.]]\n",
      "[[0. 0. 0. ... 0. 0. 0.]\n",
      " [0. 0. 0. ... 0. 0. 0.]\n",
      " [0. 0. 0. ... 0. 0. 0.]\n",
      " ...\n",
      " [0. 0. 0. ... 0. 0. 0.]\n",
      " [0. 0. 0. ... 0. 0. 0.]\n",
      " [0. 0. 0. ... 0. 0. 0.]]\n"
     ]
    }
   ],
   "source": [
    "arr_empty_2d = np.empty((2, 4))\n",
    "arr_empty_3d = np.empty((2, 2, 2))\n",
    "print(arr_empty_2d, arr_empty_2d.shape)\n",
    "\n",
    "print(np.empty((1000, 1000)))\n",
    "print(np.zeros((1000, 1000)))"
   ]
  },
  {
   "cell_type": "code",
   "execution_count": 9,
   "metadata": {},
   "outputs": [
    {
     "name": "stdout",
     "output_type": "stream",
     "text": [
      "[0 1 2 3] (4,) <class 'numpy.ndarray'>\n",
      "[0.  0.1 0.2 0.3 0.4 0.5 0.6 0.7 0.8 0.9]\n",
      "[10.   9.9  9.8  9.7  9.6  9.5  9.4  9.3  9.2  9.1  9.   8.9  8.8  8.7\n",
      "  8.6  8.5  8.4  8.3  8.2  8.1  8.   7.9  7.8  7.7  7.6  7.5  7.4  7.3\n",
      "  7.2  7.1  7.   6.9  6.8  6.7  6.6  6.5  6.4  6.3  6.2  6.1  6.   5.9\n",
      "  5.8  5.7  5.6  5.5  5.4  5.3  5.2  5.1]\n"
     ]
    }
   ],
   "source": [
    "arr_arange_1d = np.arange(4)\n",
    "print(arr_arange_1d, arr_arange_1d.shape, type(arr_arange_1d))\n",
    "\n",
    "print(np.arange(1, step=.1))\n",
    "print(np.arange(10, 5, -.1))"
   ]
  },
  {
   "cell_type": "code",
   "execution_count": 10,
   "metadata": {},
   "outputs": [
    {
     "name": "stdout",
     "output_type": "stream",
     "text": [
      "[[1, 2, 3], [4, 5, 6]] [1, 2, 3] [1, 3]\n",
      "[[-2.00000000e+000  2.00390263e+000  1.97626258e-323  0.00000000e+000]\n",
      " [ 0.00000000e+000  0.00000000e+000 -2.00000000e+000  5.60610283e-309]] [-2.00000000e+000  2.00390263e+000  1.97626258e-323  0.00000000e+000] [-2.e+000  2.e-323]\n",
      "[[-2.e+000  2.e-323]\n",
      " [ 0.e+000 -2.e+000]]\n",
      "[[ 0.00000000e+000  1.97626258e-323  2.00390263e+000 -2.00000000e+000]\n",
      " [ 5.60610283e-309 -2.00000000e+000  0.00000000e+000  0.00000000e+000]]\n",
      "[[[-2.00000000e+000 -2.00390263e+000]\n",
      "  [ 1.97626258e-323  0.00000000e+000]]\n",
      "\n",
      " [[ 0.00000000e+000  0.00000000e+000]\n",
      "  [-2.00000000e+000  5.60610283e-309]]]\n",
      "[[-2.         -2.00390263]\n",
      " [ 0.          0.        ]]\n",
      "[[ 0.          0.        ]\n",
      " [-2.00390263 -2.        ]]\n"
     ]
    }
   ],
   "source": [
    "mylist = [[1, 2, 3], [4, 5, 6]]\n",
    "print(mylist, mylist[0], mylist[0][::2])\n",
    "\n",
    "print(arr_empty_2d, arr_empty_2d[0], arr_empty_2d[0, ::2])\n",
    "print(arr_empty_2d[:, ::2])\n",
    "print(arr_empty_2d[:, ::-1])\n",
    "\n",
    "print(arr_empty_3d)\n",
    "print(arr_empty_3d[:, 0, :])\n",
    "print(arr_empty_3d[::-1, 0, ::-1])"
   ]
  },
  {
   "cell_type": "code",
   "execution_count": 11,
   "metadata": {},
   "outputs": [
    {
     "name": "stdout",
     "output_type": "stream",
     "text": [
      "[ 0.          0.         -2.00390263 -2.        ]\n",
      "[[ 0.          0.         -2.00390263 -2.        ]]\n"
     ]
    }
   ],
   "source": [
    "print(np.empty(4))\n",
    "print(np.empty((1, 4)))"
   ]
  },
  {
   "cell_type": "code",
   "execution_count": 12,
   "metadata": {},
   "outputs": [
    {
     "name": "stdout",
     "output_type": "stream",
     "text": [
      "[[0. 0. 0.]\n",
      " [0. 0. 0.]\n",
      " [0. 0. 0.]]\n",
      "[[ 1  2  3  4]\n",
      " [ 5  6  7  8]\n",
      " [ 9 10 11 12]]\n",
      "[ 1.  2.  3.  4.  5.  6.  7.  8.  9. 10. 11. 12.  0.  0.  0.  0.  0.  0.\n",
      "  0.  0.  0.]\n",
      "[[ 1.  2.  3.  4.  0.  0.  0.]\n",
      " [ 5.  6.  7.  8.  0.  0.  0.]\n",
      " [ 9. 10. 11. 12.  0.  0.  0.]]\n",
      "[[ 1  2  3  4]\n",
      " [ 5  6  7  8]\n",
      " [ 9 10 11 12]\n",
      " [ 0  1  2  3]]\n"
     ]
    }
   ],
   "source": [
    "new_zeros = np.zeros((3, 3))\n",
    "print(new_zeros)\n",
    "print(array1)\n",
    "\n",
    "print(np.append(array1, new_zeros))\n",
    "print(np.append(array1, new_zeros, axis=1))\n",
    "print(np.append(array1, arr_arange_1d[np.newaxis, :], axis=0))"
   ]
  },
  {
   "cell_type": "code",
   "execution_count": 13,
   "metadata": {},
   "outputs": [
    {
     "name": "stdout",
     "output_type": "stream",
     "text": [
      "[1, 2, 3]\n",
      "[1, 2, 3, 1, 2, 3]\n"
     ]
    }
   ],
   "source": [
    "mylist = [1, 2, 3]\n",
    "print(mylist)\n",
    "mylist.extend([1, 2, 3])\n",
    "print(mylist)"
   ]
  },
  {
   "cell_type": "code",
   "execution_count": 14,
   "metadata": {},
   "outputs": [
    {
     "name": "stdout",
     "output_type": "stream",
     "text": [
      "[[ 1  2  3  4]\n",
      " [ 5  6  7  8]\n",
      " [ 9 10 11 12]]\n",
      "[[ 2  4]\n",
      " [ 6  8]\n",
      " [10 12]]\n",
      "[[ 1  2  3  4]\n",
      " [ 5  6  7  8]\n",
      " [ 9 10 11 12]]\n"
     ]
    }
   ],
   "source": [
    "print(array1)\n",
    "print(np.delete(array1, [0, 2], axis=1))\n",
    "print(array1)"
   ]
  },
  {
   "cell_type": "code",
   "execution_count": 15,
   "metadata": {},
   "outputs": [
    {
     "name": "stdout",
     "output_type": "stream",
     "text": [
      "[[-2.00000000e+000  2.00390263e+000  1.97626258e-323  0.00000000e+000]\n",
      " [ 0.00000000e+000  0.00000000e+000 -2.00000000e+000  5.60610283e-309]]\n"
     ]
    },
    {
     "data": {
      "text/plain": [
       "array([[-2.00000000e+000,  0.00000000e+000,  1.97626258e-323,\n",
       "         2.00390263e+000],\n",
       "       [-2.00000000e+000,  0.00000000e+000,  0.00000000e+000,\n",
       "         5.60610283e-309]])"
      ]
     },
     "execution_count": 15,
     "metadata": {},
     "output_type": "execute_result"
    }
   ],
   "source": [
    "print(arr_empty_2d)\n",
    "np.sort(arr_empty_2d, axis=1)"
   ]
  },
  {
   "cell_type": "code",
   "execution_count": 16,
   "metadata": {},
   "outputs": [
    {
     "name": "stdout",
     "output_type": "stream",
     "text": [
      "(2, 4) 2 8\n",
      "(2, 2, 2) 3 8\n"
     ]
    }
   ],
   "source": [
    "print(arr_empty_2d.shape, arr_empty_2d.ndim, arr_empty_2d.size)\n",
    "print(arr_empty_3d.shape, arr_empty_3d.ndim, arr_empty_3d.size)"
   ]
  },
  {
   "cell_type": "code",
   "execution_count": 17,
   "metadata": {},
   "outputs": [
    {
     "name": "stdout",
     "output_type": "stream",
     "text": [
      "[[ 1  2  3  4]\n",
      " [ 5  6  7  8]\n",
      " [ 9 10 11 12]]\n",
      "[[ 1  2  3  4  5  6]\n",
      " [ 7  8  9 10 11 12]]\n",
      "[[[ 1  2  3]\n",
      "  [ 4  5  6]]\n",
      "\n",
      " [[ 7  8  9]\n",
      "  [10 11 12]]]\n",
      "[[[ 1  2  3]]\n",
      "\n",
      " [[ 4  5  6]]\n",
      "\n",
      " [[ 7  8  9]]\n",
      "\n",
      " [[10 11 12]]]\n",
      "[[[ 1  2  3]]\n",
      "\n",
      " [[ 4  5  6]]\n",
      "\n",
      " [[ 7  8  9]]\n",
      "\n",
      " [[10 11 12]]]\n",
      "[[[[ 1  2  3]]\n",
      "\n",
      "  [[ 4  5  6]]]\n",
      "\n",
      "\n",
      " [[[ 7  8  9]]\n",
      "\n",
      "  [[10 11 12]]]]\n"
     ]
    }
   ],
   "source": [
    "print(array1)\n",
    "print(np.reshape(array1, [2, 6]))\n",
    "print(np.reshape(array1, [2, 2, 3]))\n",
    "print(np.reshape(array1, [4, 1, 3]))\n",
    "\n",
    "# print(np.reshape(array1, (2, 7)))   # will throw error\n",
    "\n",
    "print(array1.reshape(4, 1, 3))\n",
    "print(array1.reshape(2, 2, 1, 3))"
   ]
  },
  {
   "cell_type": "code",
   "execution_count": 18,
   "metadata": {},
   "outputs": [
    {
     "name": "stdout",
     "output_type": "stream",
     "text": [
      "[[[[[ 1]]\n",
      "\n",
      "   [[ 2]]\n",
      "\n",
      "   [[ 3]]\n",
      "\n",
      "   [[ 4]]]]\n",
      "\n",
      "\n",
      "\n",
      " [[[[ 5]]\n",
      "\n",
      "   [[ 6]]\n",
      "\n",
      "   [[ 7]]\n",
      "\n",
      "   [[ 8]]]]\n",
      "\n",
      "\n",
      "\n",
      " [[[[ 9]]\n",
      "\n",
      "   [[10]]\n",
      "\n",
      "   [[11]]\n",
      "\n",
      "   [[12]]]]]\n",
      "[[[ 1  2  3  4]]\n",
      "\n",
      " [[ 5  6  7  8]]\n",
      "\n",
      " [[ 9 10 11 12]]]\n",
      "[[[ 1]\n",
      "  [ 2]\n",
      "  [ 3]\n",
      "  [ 4]]\n",
      "\n",
      " [[ 5]\n",
      "  [ 6]\n",
      "  [ 7]\n",
      "  [ 8]]\n",
      "\n",
      " [[ 9]\n",
      "  [10]\n",
      "  [11]\n",
      "  [12]]]\n"
     ]
    }
   ],
   "source": [
    "print(array1[:, np.newaxis, :, np.newaxis, np.newaxis])\n",
    "print(array1.reshape(3, 1, 4))\n",
    "print(np.expand_dims(array1, axis=2))"
   ]
  },
  {
   "cell_type": "code",
   "execution_count": 19,
   "metadata": {},
   "outputs": [
    {
     "name": "stdout",
     "output_type": "stream",
     "text": [
      "[[ 1  2  3  4]\n",
      " [ 5  6  7  8]\n",
      " [ 9 10 11 12]]\n",
      "[[False  True False  True]\n",
      " [False  True False  True]\n",
      " [False  True False  True]]\n",
      "[ 2  4  6  8 10 12]\n",
      "[[  1  20   3  40]\n",
      " [  5  60   7  80]\n",
      " [  9 100  11 120]]\n",
      "[[ 0  2  0  4]\n",
      " [ 0  6  0  8]\n",
      " [ 0 10  0 12]]\n",
      "[[0 1]\n",
      " [0 3]\n",
      " [1 1]\n",
      " [1 3]\n",
      " [2 1]\n",
      " [2 3]]\n"
     ]
    }
   ],
   "source": [
    "print(array1)\n",
    "even_number = array1 % 2 == 0\n",
    "print(even_number)\n",
    "print(array1[even_number])\n",
    "\n",
    "print(np.where(array1 % 2 == 0, array1*10, array1))\n",
    "print(np.where(array1 % 2 == 0, array1, 0))\n",
    "print(np.argwhere(array1 % 2 == 0))"
   ]
  },
  {
   "cell_type": "code",
   "execution_count": 20,
   "metadata": {},
   "outputs": [
    {
     "name": "stdout",
     "output_type": "stream",
     "text": [
      "[[ 0  0  0  0]\n",
      " [ 1  2  3  4]\n",
      " [ 5  6  7  8]\n",
      " [ 9 10 11 12]]\n",
      "[[ 1  2  3  4  0]\n",
      " [ 5  6  7  8  0]\n",
      " [ 9 10 11 12  0]]\n",
      "[[ 1  2  3  4]\n",
      " [ 5  6  7  8]\n",
      " [ 9 10 11 12]\n",
      " [ 0  0  0  0]\n",
      " [ 1  1  1  1]]\n",
      "[[ 0.  0.  0.  1.  2.  3.  4.  0.  0.  0.  1.  1.  1.  1.  1.]\n",
      " [ 0.  0.  0.  5.  6.  7.  8.  0.  0.  0.  1.  1.  1.  1.  1.]\n",
      " [ 0.  0.  0.  9. 10. 11. 12.  0.  0.  0.  1.  1.  1.  1.  1.]]\n"
     ]
    }
   ],
   "source": [
    "print(np.vstack(([0, 0, 0, 0], array1,)))\n",
    "print(np.hstack((array1, [[0], [0], [0]])))\n",
    "print(np.concatenate(\n",
    "    [\n",
    "        array1,\n",
    "        [[0, 0, 0, 0]],\n",
    "        [[1, 1, 1, 1]]\n",
    "    ],\n",
    "    axis=0\n",
    "))\n",
    "print(np.concatenate(\n",
    "    [\n",
    "        np.zeros((3, 3)),\n",
    "        array1,\n",
    "        np.zeros((3, 3)),\n",
    "        np.ones((3, 5))\n",
    "    ],\n",
    "    axis=1\n",
    "))"
   ]
  },
  {
   "cell_type": "code",
   "execution_count": 21,
   "metadata": {},
   "outputs": [
    {
     "data": {
      "text/plain": [
       "([1, 2, 3, 4, 5, 6], [1, 2, 3, 1, 2, 3])"
      ]
     },
     "execution_count": 21,
     "metadata": {},
     "output_type": "execute_result"
    }
   ],
   "source": [
    "[1, 2, 3] + [4, 5, 6], [1, 2, 3] * 2"
   ]
  },
  {
   "cell_type": "code",
   "execution_count": 22,
   "metadata": {},
   "outputs": [
    {
     "name": "stdout",
     "output_type": "stream",
     "text": [
      "[1 2 3 4]\n",
      "[2 4 6 8]\n",
      "[0 0 0 0]\n",
      "[10 20 30 40]\n",
      "[11 22 33 44]\n",
      "[ 1  8 27 64]\n",
      "[0.5 1.  1.5 2. ]\n",
      "[0 1 1 2]\n",
      "[[ 1  4  9 16]\n",
      " [ 5 12 21 32]\n",
      " [ 9 20 33 48]]\n"
     ]
    }
   ],
   "source": [
    "array1_0 = array1[0]\n",
    "print(array1_0)\n",
    "\n",
    "print(array1_0 + array1_0)\n",
    "print(array1_0 - array1_0)\n",
    "print(array1_0 * 10)\n",
    "print(array1_0 * 10 + array1_0)\n",
    "print(array1_0 ** 3)\n",
    "print(array1_0 / 2)\n",
    "print(array1_0 // 2)\n",
    "\n",
    "print(array1 * array1_0)"
   ]
  },
  {
   "cell_type": "code",
   "execution_count": 23,
   "metadata": {},
   "outputs": [
    {
     "name": "stdout",
     "output_type": "stream",
     "text": [
      "[[ 1  2  3  4]\n",
      " [ 5  6  7  8]\n",
      " [ 9 10 11 12]]\n",
      "78\n",
      "[15 18 21 24]\n",
      "[[15 18 21 24]]\n",
      "[[10]\n",
      " [26]\n",
      " [42]]\n",
      "12\n",
      "[ 4  8 12]\n",
      "[[ 4]\n",
      " [ 8]\n",
      " [12]]\n"
     ]
    }
   ],
   "source": [
    "print(array1)\n",
    "print(array1.sum())\n",
    "print(array1.sum(axis=0))\n",
    "print(array1.sum(axis=0, keepdims=True))\n",
    "print(array1.sum(axis=1, keepdims=True))\n",
    "print(array1.max())\n",
    "print(array1.max(axis=1))\n",
    "print(array1.max(axis=1, keepdims=True))"
   ]
  },
  {
   "cell_type": "code",
   "execution_count": 24,
   "metadata": {},
   "outputs": [
    {
     "name": "stdout",
     "output_type": "stream",
     "text": [
      "[[  1   4   9  16]\n",
      " [ 25  36  49  64]\n",
      " [ 81 100 121 144]]\n",
      "[[ 1  2  3  4]\n",
      " [ 5  6  7  8]\n",
      " [ 9 10 11 12]]\n",
      "[[ 1  5  9]\n",
      " [ 2  6 10]\n",
      " [ 3  7 11]\n",
      " [ 4  8 12]]\n",
      "[[ 1  5  9]\n",
      " [ 2  6 10]\n",
      " [ 3  7 11]\n",
      " [ 4  8 12]]\n",
      "[[ 30  70 110]\n",
      " [ 70 174 278]\n",
      " [110 278 446]]\n",
      "[[107 122 137 152]\n",
      " [122 140 158 176]\n",
      " [137 158 179 200]\n",
      " [152 176 200 224]]\n",
      "[[107 122 137 152]\n",
      " [122 140 158 176]\n",
      " [137 158 179 200]\n",
      " [152 176 200 224]]\n"
     ]
    },
    {
     "data": {
      "text/plain": [
       "array([[ 30,  70, 110],\n",
       "       [ 70, 174, 278],\n",
       "       [110, 278, 446]])"
      ]
     },
     "execution_count": 24,
     "metadata": {},
     "output_type": "execute_result"
    }
   ],
   "source": [
    "print(array1 * array1)\n",
    "print(array1)\n",
    "print(array1.T)\n",
    "print(array1.transpose())\n",
    "print(np.dot(array1, array1.T))\n",
    "print(np.dot(array1.T, array1))\n",
    "print(array1.T.dot(array1))\n",
    "\n",
    "np.matmul(array1, array1.T)"
   ]
  },
  {
   "cell_type": "code",
   "execution_count": 25,
   "metadata": {},
   "outputs": [
    {
     "name": "stdout",
     "output_type": "stream",
     "text": [
      "[[1 2]\n",
      " [3 4]]\n",
      "[[3 4]\n",
      " [5 6]]\n",
      "[[13 16]\n",
      " [29 36]]\n"
     ]
    }
   ],
   "source": [
    "arr2 = np.array([[1, 2], [3, 4]])\n",
    "arr3 = np.array([[3, 4], [5, 6]])\n",
    "print(arr2)\n",
    "print(arr3)\n",
    "\n",
    "print(arr2.dot(arr3))\n"
   ]
  }
 ],
 "metadata": {
  "kernelspec": {
   "display_name": "Python 3",
   "language": "python",
   "name": "python3"
  },
  "language_info": {
   "codemirror_mode": {
    "name": "ipython",
    "version": 3
   },
   "file_extension": ".py",
   "mimetype": "text/x-python",
   "name": "python",
   "nbconvert_exporter": "python",
   "pygments_lexer": "ipython3",
   "version": "3.8.6"
  }
 },
 "nbformat": 4,
 "nbformat_minor": 4
}
