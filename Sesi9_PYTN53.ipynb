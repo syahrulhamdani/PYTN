{
 "cells": [
  {
   "cell_type": "code",
   "execution_count": 1,
   "metadata": {},
   "outputs": [],
   "source": [
    "import math\n",
    "import statistics\n",
    "\n",
    "import numpy as np\n",
    "import pandas as pd\n",
    "import scipy.stats"
   ]
  },
  {
   "cell_type": "code",
   "execution_count": 2,
   "metadata": {},
   "outputs": [
    {
     "name": "stdout",
     "output_type": "stream",
     "text": [
      "[8.0, 1, 2.5, 4, 28.0]\n",
      "[8.0, 1, 2.5, nan, 4, 28.0]\n",
      "[ 8.   1.   2.5  4.  28. ]\n",
      "[ 8.   1.   2.5  nan  4.  28. ]\n",
      "0     8.0\n",
      "1     1.0\n",
      "2     2.5\n",
      "3     4.0\n",
      "4    28.0\n",
      "dtype: float64\n",
      "0     8.0\n",
      "1     1.0\n",
      "2     2.5\n",
      "3     NaN\n",
      "4     4.0\n",
      "5    28.0\n",
      "dtype: float64\n"
     ]
    }
   ],
   "source": [
    "x = [8.0, 1, 2.5, 4, 28.0]\n",
    "x_with_nan = [8.0, 1, 2.5, math.nan, 4, 28.]\n",
    "\n",
    "x_arr = np.array(x)\n",
    "x_arr_with_nan = np.array(x_with_nan)\n",
    "\n",
    "x_series = pd.Series(x)\n",
    "x_series_with_nan = pd.Series(x_with_nan)\n",
    "\n",
    "print(x)\n",
    "print(x_with_nan)\n",
    "\n",
    "print(x_arr)\n",
    "print(x_arr_with_nan)\n",
    "\n",
    "print(x_series)\n",
    "print(x_series_with_nan)"
   ]
  },
  {
   "cell_type": "code",
   "execution_count": 3,
   "metadata": {},
   "outputs": [
    {
     "name": "stdout",
     "output_type": "stream",
     "text": [
      "native mean: 8.7\n",
      "stats mean: 8.7\n",
      "numpy mean: 8.7\n",
      "pandas mean: 8.7\n",
      "np array mean: 8.7\n"
     ]
    }
   ],
   "source": [
    "native_mean = sum(x) / len(x)\n",
    "stats_mean = statistics.mean(x)\n",
    "np_mean = np.mean(x)\n",
    "pd_mean = x_series.mean()\n",
    "\n",
    "print(\"native mean:\", native_mean)\n",
    "print(\"stats mean:\", stats_mean)\n",
    "print(\"numpy mean:\", np_mean)\n",
    "print(\"pandas mean:\", pd_mean)\n",
    "print(\"np array mean:\", x_arr.mean())"
   ]
  },
  {
   "cell_type": "code",
   "execution_count": 4,
   "metadata": {},
   "outputs": [
    {
     "name": "stdout",
     "output_type": "stream",
     "text": [
      "mean of x with nan: nan\n",
      "stats mean of x with nan: nan\n",
      "numpy mean of x with nan: nan\n",
      "np array mean of x with nan: 8.7\n",
      "numpy mean nan: 8.7\n",
      "pandas mean nan: 8.7 pandas mean skipna=False: nan\n"
     ]
    }
   ],
   "source": [
    "print(\"mean of x with nan:\", sum(x_with_nan) / len(x_with_nan))\n",
    "print(\"stats mean of x with nan:\", statistics.mean(x_with_nan))\n",
    "print(\"numpy mean of x with nan:\", np.mean(x_with_nan))\n",
    "\n",
    "np_mean_with_nan = np.nanmean(x_with_nan)\n",
    "pd_mean_with_nan = x_series_with_nan.mean()\n",
    "\n",
    "print(\"np array mean of x with nan:\", x_arr.mean())\n",
    "print(\"numpy mean nan:\", np_mean_with_nan)\n",
    "print(\n",
    "    \"pandas mean nan:\", pd_mean_with_nan,\n",
    "    \"pandas mean skipna=False:\", x_series_with_nan.mean(skipna=False)\n",
    ")"
   ]
  },
  {
   "cell_type": "code",
   "execution_count": 5,
   "metadata": {},
   "outputs": [
    {
     "data": {
      "text/plain": [
       "(True, False)"
      ]
     },
     "execution_count": 5,
     "metadata": {},
     "output_type": "execute_result"
    }
   ],
   "source": [
    "bool(np.nan), bool(\"\")"
   ]
  },
  {
   "cell_type": "code",
   "execution_count": 6,
   "metadata": {},
   "outputs": [
    {
     "name": "stdout",
     "output_type": "stream",
     "text": [
      "native weighted mean: 4.8\n",
      "4.8\n"
     ]
    }
   ],
   "source": [
    "x_new = [2, 4, 8]\n",
    "weight = [.2, .5, .3]\n",
    "\n",
    "native_weighted_mean = sum(w * x_item for w, x_item in zip(x_new, weight)) / sum(weight)\n",
    "\n",
    "print(\"native weighted mean:\", native_weighted_mean)\n",
    "print(\n",
    "    sum([2, 2, 4, 4, 4, 4, 4, 8, 8, 8]) / len([2, 2, 4, 4, 4, 4, 4, 8, 8, 8])\n",
    ")"
   ]
  },
  {
   "cell_type": "markdown",
   "metadata": {},
   "source": [
    "**ekuivalen:**\n",
    "$ (2 \\cdot 2 / 10 + 4 \\cdot 5 / 10) / (2/10 + 5/10)$"
   ]
  },
  {
   "cell_type": "code",
   "execution_count": 7,
   "metadata": {},
   "outputs": [
    {
     "name": "stdout",
     "output_type": "stream",
     "text": [
      "weighted mean: 6.95\n",
      "numpy weighted mean: 6.95\n",
      "numpy array weighted mean: 6.95\n"
     ]
    }
   ],
   "source": [
    "x_new = [8.0, 1, 2.5, 4, 28.0]\n",
    "weights = [.1, .2, .3, .25, .15]\n",
    "x_new_arr = np.array(x_new)\n",
    "weights_arr = np.array(weights)\n",
    "\n",
    "sum_of_weighted_x = sum(weight * item for weight, item in zip(weights, x_new))\n",
    "sum_weight = sum(weights)\n",
    "\n",
    "print(\"weighted mean:\", sum_of_weighted_x / sum_weight)\n",
    "\n",
    "np_weighted_mean = np.average(x_new, weights=weights)\n",
    "arr_weighted_mean = (x_new_arr * weights_arr).sum() / weights_arr.sum()\n",
    "\n",
    "print(\"numpy weighted mean:\", np_weighted_mean)\n",
    "print(\"numpy array weighted mean:\", arr_weighted_mean)"
   ]
  },
  {
   "cell_type": "code",
   "execution_count": 8,
   "metadata": {},
   "outputs": [
    {
     "name": "stdout",
     "output_type": "stream",
     "text": [
      "native harmonic mean: 2.7613412228796843\n",
      "stats harmonic mean: 2.7613412228796843\n",
      "scipy harmnonic mean: 2.7613412228796843\n",
      "array (workaround) harmnonic mean: 2.7613412228796843\n"
     ]
    }
   ],
   "source": [
    "native_hmean = len(x) / sum(1/value for value in x)\n",
    "stats_hmean = statistics.harmonic_mean(x)\n",
    "scipy_hmean = scipy.stats.hmean(x)\n",
    "# arr_hmean = x_arr.shape[0] / (1 / x_arr).sum()\n",
    "arr_hmean = 1 / (1 / x_arr).mean()\n",
    "\n",
    "print(\"native harmonic mean:\", native_hmean)\n",
    "print(\"stats harmonic mean:\", stats_hmean)\n",
    "print(\"scipy harmnonic mean:\", scipy_hmean)\n",
    "print(\"array (workaround) harmnonic mean:\", arr_hmean)"
   ]
  },
  {
   "cell_type": "code",
   "execution_count": 9,
   "metadata": {},
   "outputs": [
    {
     "name": "stdout",
     "output_type": "stream",
     "text": [
      "x: [8.0, 1, 2.5, 4, 28.0]\n",
      "native gmean: 4.677885674856041\n"
     ]
    }
   ],
   "source": [
    "print(\"x:\", x)\n",
    "multiplication = 1\n",
    "for value in x:\n",
    "    multiplication *= value\n",
    "gmean = multiplication ** (1/len(x))\n",
    "\n",
    "print(\"native gmean:\", gmean)"
   ]
  },
  {
   "cell_type": "code",
   "execution_count": 10,
   "metadata": {},
   "outputs": [
    {
     "name": "stdout",
     "output_type": "stream",
     "text": [
      "scipy gmean: 4.67788567485604\n",
      "stats gmean: 4.67788567485604\n"
     ]
    }
   ],
   "source": [
    "scipy_gmean = scipy.stats.gmean(x)\n",
    "stats_gmean = statistics.geometric_mean(x)   # python version >= 3.8\n",
    "\n",
    "print(\"scipy gmean:\", scipy_gmean)\n",
    "print(\"stats gmean:\", stats_gmean)"
   ]
  },
  {
   "cell_type": "code",
   "execution_count": 11,
   "metadata": {},
   "outputs": [
    {
     "name": "stdout",
     "output_type": "stream",
     "text": [
      "x: [8.0, 1, 2.5, 4, 28.0]\n",
      "native median: 2.5\n"
     ]
    }
   ],
   "source": [
    "print(\"x:\", x)\n",
    "\n",
    "n = len(x)\n",
    "sorted_x = sorted(x)\n",
    "if n % 2:    #  odd sequence\n",
    "    median = sorted_x[int(.5 * n-1)]\n",
    "else:    # even sequence\n",
    "    med_index = int(.5 * n)\n",
    "    median = (sorted_x[med_index-1] + sorted_x[med_index]) / 2\n",
    "\n",
    "print(\"native median:\", median)"
   ]
  },
  {
   "cell_type": "code",
   "execution_count": 12,
   "metadata": {},
   "outputs": [
    {
     "name": "stdout",
     "output_type": "stream",
     "text": [
      "x: [19, 3, 2, 2.0, 0.3, 5, 1, 6, 5, 1] sorted x: [0.3, 1, 1, 2, 2.0, 3, 5, 5, 6, 19]\n",
      "native median: 2.5\n"
     ]
    }
   ],
   "source": [
    "x_new = [19, 3, 2, 2.0, .3, 5, 1, 6, 5, 1]\n",
    "sorted_x_new = sorted(x_new)\n",
    "print(\"x:\", x_new, \"sorted x:\", sorted_x_new)\n",
    "\n",
    "n_new = len(x_new)\n",
    "if n_new % 2:    #  odd sequence\n",
    "    median = sorted_x_new[int(.5 * n_new-1)]\n",
    "else:    # even sequence\n",
    "    med_index = int(.5 * n_new)\n",
    "    median = (sorted_x_new[med_index-1] + sorted_x_new[med_index]) / 2\n",
    "\n",
    "print(\"native median:\", median)"
   ]
  },
  {
   "cell_type": "code",
   "execution_count": 13,
   "metadata": {},
   "outputs": [
    {
     "name": "stdout",
     "output_type": "stream",
     "text": [
      "numpy median: 2.5\n",
      "stats median: 2.5\n",
      "stats median low: 2.0\n",
      "stats median high: 3\n"
     ]
    }
   ],
   "source": [
    "np_median = np.median(x_new)\n",
    "stats_median = statistics.median(x_new)\n",
    "stats_median_low = statistics.median_low(x_new)\n",
    "stats_median_high = statistics.median_high(x_new)\n",
    "\n",
    "print(\"numpy median:\", np_median)\n",
    "print(\"stats median:\", stats_median)\n",
    "print(\"stats median low:\", stats_median_low)\n",
    "print(\"stats median high:\", stats_median_high)"
   ]
  },
  {
   "cell_type": "code",
   "execution_count": 14,
   "metadata": {},
   "outputs": [
    {
     "name": "stdout",
     "output_type": "stream",
     "text": [
      "u: [2, 3, 2, 8, 12] v: [12, 15, 12, 15, 21, 15, 12]\n",
      "[(3, 12), (3, 15), (3, 12), (3, 15), (1, 21), (3, 15), (3, 12)]\n",
      "native mode u: 2\n",
      "native mode v: 15\n"
     ]
    }
   ],
   "source": [
    "u = [2, 3, 2, 8, 12]\n",
    "v = [12, 15, 12, 15, 21, 15, 12]\n",
    "print(\"u:\", u, \"v:\", v)\n",
    "\n",
    "mode_u = max([(u.count(value), value) for value in u])[1]\n",
    "mode_v = max([(v.count(value), value) for value in v])[1]\n",
    "print([(v.count(value), value) for value in v])\n",
    "\n",
    "print(\"native mode u:\", mode_u)\n",
    "print(\"native mode v:\", mode_v)"
   ]
  },
  {
   "cell_type": "code",
   "execution_count": 15,
   "metadata": {},
   "outputs": [
    {
     "name": "stdout",
     "output_type": "stream",
     "text": [
      "stats mode: 12\n",
      "scipy mode: ModeResult(mode=array([12]), count=array([3])) 12 3\n",
      "series mode: 0    12\n",
      "1    15\n",
      "dtype: int64\n"
     ]
    }
   ],
   "source": [
    "u_series = pd.Series(u)\n",
    "v_series = pd.Series(v)\n",
    "\n",
    "stats_mode = statistics.mode(v)\n",
    "scipy_mode = scipy.stats.mode(v)\n",
    "series_mode = v_series.mode()\n",
    "\n",
    "print(\"stats mode:\", stats_mode)\n",
    "print(\"scipy mode:\", scipy_mode, scipy_mode.mode[0], scipy_mode.count[0])\n",
    "print(\"series mode:\", series_mode)"
   ]
  },
  {
   "cell_type": "code",
   "execution_count": 16,
   "metadata": {},
   "outputs": [
    {
     "name": "stdout",
     "output_type": "stream",
     "text": [
      "x: [8.0, 1, 2.5, 4, 28.0]\n",
      "native variance: 123.19999999999999\n"
     ]
    }
   ],
   "source": [
    "print(\"x:\", x)\n",
    "mean_x = sum(x) / len(x)\n",
    "variance = sum((value - mean_x)**2 for value in x) / (len(x)-1)\n",
    "\n",
    "print(\"native variance:\", variance)"
   ]
  },
  {
   "cell_type": "code",
   "execution_count": 17,
   "metadata": {},
   "outputs": [
    {
     "name": "stdout",
     "output_type": "stream",
     "text": [
      "stats var: 123.2\n",
      "numpy var: 123.19999999999999\n",
      "series var: 123.19999999999999\n",
      "scipy sample variance: 123.19999999999999\n"
     ]
    }
   ],
   "source": [
    "stats_var = statistics.variance(x)\n",
    "np_var = np.var(x, ddof=1)\n",
    "series_var = x_series.var(ddof=1)\n",
    "\n",
    "print(\"stats var:\", stats_var)\n",
    "print(\"numpy var:\", np_var)\n",
    "print(\"series var:\", series_var)\n",
    "print(\"scipy sample variance:\", scipy.stats.tvar(x))"
   ]
  },
  {
   "cell_type": "code",
   "execution_count": 18,
   "metadata": {},
   "outputs": [
    {
     "name": "stdout",
     "output_type": "stream",
     "text": [
      "x: [8.0, 1, 2.5, 4, 28.0] mean x: 8.7\n",
      "native std: 11.099549540409285\n",
      "numpy std: 11.099549540409285\n",
      "series std: 11.099549540409285\n"
     ]
    }
   ],
   "source": [
    "print(\"x:\", x, \"mean x:\", mean_x)\n",
    "native_std = variance ** .5\n",
    "np_std = np.std(x, ddof=1)\n",
    "series_std = x_series.std(ddof=1)\n",
    "\n",
    "print(\"native std:\", native_std)\n",
    "print(\"numpy std:\", np_std)\n",
    "print(\"series std:\", series_std)"
   ]
  },
  {
   "cell_type": "code",
   "execution_count": 19,
   "metadata": {},
   "outputs": [
    {
     "name": "stdout",
     "output_type": "stream",
     "text": [
      "scipy skew: 1.9470432273905927\n",
      "series skew: 1.9470432273905924\n"
     ]
    }
   ],
   "source": [
    "scipy_skew = scipy.stats.skew(x, bias=False)\n",
    "series_skew = x_series.skew()\n",
    "\n",
    "print(\"scipy skew:\", scipy_skew)\n",
    "print(\"series skew:\", series_skew)"
   ]
  },
  {
   "cell_type": "code",
   "execution_count": 20,
   "metadata": {},
   "outputs": [
    {
     "name": "stdout",
     "output_type": "stream",
     "text": [
      "[-5.0, -1.1, 0.1, 2.0, 8.0, 12.8, 21.0, 25.8, 41.0]\n",
      "[0.1, 8.0, 21.0]\n",
      "[-0.5, 8.0, 23.4]\n",
      "[-5.   0.1  8.  21.  41. ]\n"
     ]
    }
   ],
   "source": [
    "x = [-5., -1.1, .1, 2., 8., 12.8, 21., 25.8, 41.]\n",
    "print(x)\n",
    "\n",
    "print(statistics.quantiles(x, method=\"inclusive\"))\n",
    "print(statistics.quantiles(x, method=\"exclusive\"))\n",
    "print(np.percentile(x, [0, 25, 50, 75, 100]))"
   ]
  },
  {
   "cell_type": "code",
   "execution_count": 21,
   "metadata": {},
   "outputs": [
    {
     "name": "stdout",
     "output_type": "stream",
     "text": [
      "46.0\n",
      "46.0\n"
     ]
    }
   ],
   "source": [
    "print(np.ptp(x))\n",
    "print(max(x) - min(x))"
   ]
  },
  {
   "cell_type": "code",
   "execution_count": 22,
   "metadata": {},
   "outputs": [
    {
     "name": "stdout",
     "output_type": "stream",
     "text": [
      "20.9\n",
      "20.9\n"
     ]
    }
   ],
   "source": [
    "print(np.percentile(x, 75) - np.percentile(x, 25))\n",
    "print(statistics.quantiles(x, method=\"inclusive\")[-1] - statistics.quantiles(x, method=\"inclusive\")[0])"
   ]
  },
  {
   "cell_type": "code",
   "execution_count": 23,
   "metadata": {},
   "outputs": [],
   "source": [
    "x = list(range(-10, 11))\n",
    "y = [0, 2, 2, 2, 2, 3, 3, 6, 7, 4, 7, 6, 6, 9, 4, 5, 5, 10, 11, 12, 14]\n",
    "x_arr = np.array(x)\n",
    "y_arr = np.array(y)\n",
    "x_series = pd.Series(x)\n",
    "y_series = pd.Series(y)"
   ]
  },
  {
   "cell_type": "code",
   "execution_count": 24,
   "metadata": {},
   "outputs": [
    {
     "name": "stdout",
     "output_type": "stream",
     "text": [
      "19.95\n"
     ]
    }
   ],
   "source": [
    "n = len(x)\n",
    "mean_x, mean_y = sum(x) / n, sum(y) / n\n",
    "\n",
    "cov_xy = sum((val_x - mean_x)*(val_y - mean_y) for val_x, val_y in zip(x, y)) / (n - 1)\n",
    "print(cov_xy)"
   ]
  },
  {
   "cell_type": "code",
   "execution_count": 25,
   "metadata": {},
   "outputs": [
    {
     "name": "stdout",
     "output_type": "stream",
     "text": [
      "[[38.5        19.95      ]\n",
      " [19.95       13.91428571]]\n"
     ]
    }
   ],
   "source": [
    "np_cov = np.cov(x, y)\n",
    "print(np_cov)"
   ]
  },
  {
   "cell_type": "code",
   "execution_count": 26,
   "metadata": {},
   "outputs": [
    {
     "name": "stdout",
     "output_type": "stream",
     "text": [
      "38.5\n",
      "13.914285714285711\n"
     ]
    }
   ],
   "source": [
    "var_x, var_y = np.var(x, ddof=1), np.var(y, ddof=1)\n",
    "print(var_x)\n",
    "print(var_y)"
   ]
  },
  {
   "cell_type": "code",
   "execution_count": 27,
   "metadata": {},
   "outputs": [
    {
     "name": "stdout",
     "output_type": "stream",
     "text": [
      "0.861950005631606\n"
     ]
    }
   ],
   "source": [
    "corr_xy = np_cov[0, 1] / (var_x**.5 * var_y**.5)\n",
    "print(corr_xy)"
   ]
  },
  {
   "cell_type": "code",
   "execution_count": 28,
   "metadata": {},
   "outputs": [
    {
     "name": "stdout",
     "output_type": "stream",
     "text": [
      "x: [-10, -9, -8, -7, -6, -5, -4, -3, -2, -1, 0, 1, 2, 3, 4, 5, 6, 7, 8, 9, 10]\n",
      "y: [0, 2, 2, 2, 2, 3, 3, 6, 7, 4, 7, 6, 6, 9, 4, 5, 5, 10, 11, 12, 14]\n"
     ]
    }
   ],
   "source": [
    "print(\"x:\", x)\n",
    "print(\"y:\", y)"
   ]
  },
  {
   "cell_type": "code",
   "execution_count": 29,
   "metadata": {},
   "outputs": [
    {
     "name": "stdout",
     "output_type": "stream",
     "text": [
      "z: [20, 19, 18, 17, 16, 15, 14, 13, 12, 11, 10, 9, 8, 7, 6, 5, 4, 3, 2, 1, 0] 21\n",
      "-1.0\n"
     ]
    }
   ],
   "source": [
    "z = list(range(20, -1, -1))\n",
    "print(\"z:\", z, len(z))\n",
    "cov_xz = np.cov(x, z)\n",
    "corr_xz = cov_xz[0, 1] / (cov_xz[0, 0]**.5 * cov_xz[1, 1]**.5)\n",
    "\n",
    "print(corr_xz)"
   ]
  }
 ],
 "metadata": {
  "kernelspec": {
   "display_name": "Python 3",
   "language": "python",
   "name": "python3"
  },
  "language_info": {
   "codemirror_mode": {
    "name": "ipython",
    "version": 3
   },
   "file_extension": ".py",
   "mimetype": "text/x-python",
   "name": "python",
   "nbconvert_exporter": "python",
   "pygments_lexer": "ipython3",
   "version": "3.8.6"
  }
 },
 "nbformat": 4,
 "nbformat_minor": 4
}
